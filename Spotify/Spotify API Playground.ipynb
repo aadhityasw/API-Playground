{
 "cells": [
  {
   "cell_type": "markdown",
   "metadata": {},
   "source": [
    "# Spotify API Authentication"
   ]
  },
  {
   "cell_type": "code",
   "execution_count": null,
   "metadata": {},
   "outputs": [],
   "source": [
    "!pip3 install requirements.txt"
   ]
  },
  {
   "cell_type": "code",
   "execution_count": null,
   "metadata": {},
   "outputs": [],
   "source": [
    "import config\n",
    "\n",
    "import requests\n",
    "import pandas as pd"
   ]
  },
  {
   "cell_type": "markdown",
   "metadata": {},
   "source": [
    "## Authorization\n",
    "\n",
    "This dosent work for now and will be implemented in future versions.\n",
    "\n",
    "### Workaround\n",
    "\n",
    "* Signup for a Spotify developer account for your source account, and then create a new application from the dashboard.\n",
    "* Copy the `client id` and `client secret` from the new app\n",
    "* Head over to this [link](https://developer.spotify.com/documentation/web-api/reference/get-playlist) in your browser and open the developer console and head over to the network tab.\n",
    "* Click on the `try it` option there, and get the `Bearer token` of the new request that would come from the developer window.\n",
    "* Use this as the bearer token for the source account."
   ]
  },
  {
   "cell_type": "code",
   "execution_count": null,
   "metadata": {},
   "outputs": [],
   "source": [
    "client_id = config.client_id\n",
    "client_secret = config.client_secret"
   ]
  },
  {
   "cell_type": "markdown",
   "metadata": {},
   "source": [
    "## Get Users Playlists"
   ]
  },
  {
   "cell_type": "code",
   "execution_count": null,
   "metadata": {},
   "outputs": [],
   "source": [
    "playlist_oauth_token = config.playlist_oauth_token"
   ]
  },
  {
   "cell_type": "code",
   "execution_count": null,
   "metadata": {},
   "outputs": [],
   "source": [
    "# Get the list of playlists of the current user\n",
    "\n",
    "url = \"https://api.spotify.com/v1/me/playlists\"\n",
    "method = \"GET\"\n",
    "header = {\n",
    "    \"Authorization\" : f\"Bearer {playlist_oauth_token}\"\n",
    "}\n",
    "\n",
    "response = requests.get(url, headers=header)"
   ]
  },
  {
   "cell_type": "code",
   "execution_count": null,
   "metadata": {},
   "outputs": [],
   "source": [
    "response.json()"
   ]
  },
  {
   "cell_type": "code",
   "execution_count": null,
   "metadata": {},
   "outputs": [],
   "source": [
    "playlists_data = response.json()['items']"
   ]
  },
  {
   "cell_type": "code",
   "execution_count": null,
   "metadata": {},
   "outputs": [],
   "source": [
    "df_columns = [\"id\", \"Playlist Name\", \"Tracks Count\"]\n",
    "playlist_df = pd.DataFrame(columns=df_columns)\n",
    "num_entries = 0"
   ]
  },
  {
   "cell_type": "code",
   "execution_count": null,
   "metadata": {},
   "outputs": [],
   "source": [
    "for playlist in playlists_data :\n",
    "    playlist_id = playlist['id']\n",
    "    playlist_name = playlist['name']\n",
    "    tracks_count = playlist['tracks']['total']\n",
    "    \n",
    "    playlist_df.loc[num_entries] = [playlist_id, playlist_name, tracks_count]\n",
    "    num_entries += 1"
   ]
  },
  {
   "cell_type": "code",
   "execution_count": null,
   "metadata": {},
   "outputs": [],
   "source": [
    "playlist_df"
   ]
  },
  {
   "cell_type": "code",
   "execution_count": null,
   "metadata": {},
   "outputs": [],
   "source": [
    "playlist_df.to_csv('playlists.csv', index=False)"
   ]
  },
  {
   "cell_type": "markdown",
   "metadata": {},
   "source": [
    "## Get the tracks from these playlists"
   ]
  },
  {
   "cell_type": "code",
   "execution_count": null,
   "metadata": {},
   "outputs": [],
   "source": [
    "playlist_df = pd.read_csv('playlists.csv')"
   ]
  },
  {
   "cell_type": "code",
   "execution_count": null,
   "metadata": {},
   "outputs": [],
   "source": [
    "playlist_df"
   ]
  },
  {
   "cell_type": "code",
   "execution_count": null,
   "metadata": {},
   "outputs": [],
   "source": [
    "num_playlists = playlist_df.shape[0]"
   ]
  },
  {
   "cell_type": "code",
   "execution_count": null,
   "metadata": {},
   "outputs": [],
   "source": [
    "df_columns = [\"id\", \"Track Name\", \"Playlist Name\"]\n",
    "tracks_df = pd.DataFrame(columns=df_columns)\n",
    "num_entries = 0"
   ]
  },
  {
   "cell_type": "code",
   "execution_count": null,
   "metadata": {},
   "outputs": [],
   "source": [
    "# Get the tracks of the playlists of the current user\n",
    "\n",
    "for i in range(num_playlists) :\n",
    "    cur_playlist_id = playlist_df.iloc[i]['id']\n",
    "    cur_playlist_name = playlist_df.iloc[i]['Playlist Name']\n",
    "    cur_tracks_count = playlist_df.iloc[i]['Tracks Count']\n",
    "    \n",
    "    offset = 0\n",
    "    while offset < cur_tracks_count :\n",
    "        url = f\"https://api.spotify.com/v1/playlists/{cur_playlist_id}/tracks\"\n",
    "        method = \"GET\"\n",
    "        header = {\n",
    "            \"Authorization\" : f\"Bearer {playlist_oauth_token}\"\n",
    "        }\n",
    "        query_params = {\n",
    "            'offset' : str(offset)\n",
    "        }\n",
    "\n",
    "        response = requests.get(url, headers=header, params=query_params)\n",
    "        if not (200 <= response.status_code < 300) :\n",
    "            print(\"Error\")\n",
    "    \n",
    "        tracks_data = response.json()['items']\n",
    "\n",
    "        print(f\"Recieved {len(tracks_data)} tracks from the playlist : {cur_playlist_name}\")\n",
    "\n",
    "        for track in tracks_data :\n",
    "            cur_track_id = track['track']['id']\n",
    "            cur_track_name = track['track']['name']\n",
    "\n",
    "            tracks_df.loc[num_entries] = [cur_track_id, cur_track_name, cur_playlist_name]\n",
    "            num_entries += 1\n",
    "        \n",
    "        offset += 100"
   ]
  },
  {
   "cell_type": "code",
   "execution_count": null,
   "metadata": {},
   "outputs": [],
   "source": [
    "tracks_df.loc[tracks_df['Playlist Name'] == 'TS']"
   ]
  },
  {
   "cell_type": "code",
   "execution_count": null,
   "metadata": {},
   "outputs": [],
   "source": [
    "tracks_df.to_csv('tracks.csv', index=False)"
   ]
  },
  {
   "cell_type": "markdown",
   "metadata": {},
   "source": [
    "## Create Playlists and Populate them\n",
    "\n",
    "We create new playlists in the new spotify account and then transfer this content into the new account using by creating the playlists accordingly and then populating it with the tracks accordingly\n",
    "\n",
    "### Authorization Workaround\n",
    "\n",
    "* Note that we do not have to create a new application, but do sign up for a new developer profile in the new account.\n",
    "* Run a request from this [page](https://developer.spotify.com/documentation/web-api/reference/get-current-users-profile) and get the `user id` for the new account from the results of this request and the `bearer token` from the developer window."
   ]
  },
  {
   "cell_type": "code",
   "execution_count": null,
   "metadata": {},
   "outputs": [],
   "source": [
    "# Get the Authentication token for the second account\n",
    "\n",
    "account_2_playlist_oauth_token = config.account_2_playlist_oauth_token\n",
    "account_2_user_id = config.account_2_user_id"
   ]
  },
  {
   "cell_type": "code",
   "execution_count": null,
   "metadata": {},
   "outputs": [],
   "source": [
    "tracks_df = pd.read_csv('tracks.csv')"
   ]
  },
  {
   "cell_type": "code",
   "execution_count": null,
   "metadata": {},
   "outputs": [],
   "source": [
    "# Get the unique names of the playlists\n",
    "\n",
    "playlists = tracks_df['Playlist Name'].unique()"
   ]
  },
  {
   "cell_type": "code",
   "execution_count": null,
   "metadata": {},
   "outputs": [],
   "source": [
    "for playlist_name in playlists :\n",
    "    \n",
    "    # Create a new playlist\n",
    "    url = f\"https://api.spotify.com/v1/users/{account_2_user_id}/playlists\"\n",
    "    method = \"POST\"\n",
    "    header = {\n",
    "        \"Authorization\" : f\"Bearer {account_2_playlist_oauth_token}\",\n",
    "        \"Content-Type\" : \"application/json\"\n",
    "    }\n",
    "    body = {\n",
    "        \"name\" : playlist_name,\n",
    "        \"public\" : \"false\",\n",
    "        \"collaborative\" : \"false\",\n",
    "    }\n",
    "    response = requests.post(url, headers=header, json=body)\n",
    "    if 200 <= response.status_code < 300 :\n",
    "        print(f\"Successfully created : {playlist_name}\")\n",
    "    playlist_id = response.json()['id']\n",
    "    \n",
    "    # Get the id's of the songs of the current playlist\n",
    "    cur_tracks = tracks_df.loc[tracks_df['Playlist Name'] == playlist_name]\n",
    "    body = {'uris' : []}\n",
    "    \n",
    "    # Spotify API Allows us to pass a maximum of 100 tracks at once\n",
    "    cur_tracks_id_list = [cur_tracks.iloc[i]['id'] for i in range(cur_tracks.shape[0])]\n",
    "    offset = 0\n",
    "    \n",
    "    # Add these tracks in batches of 100\n",
    "    while offset < len(cur_tracks_id_list) :\n",
    "        body['uris'] = [f\"spotify:track:{cur_track_id}\" for cur_track_id in cur_tracks_id_list[offset:min(offset+100, len(cur_tracks_id_list))]]\n",
    "        url = f\"https://api.spotify.com/v1/playlists/{playlist_id}/tracks\"\n",
    "        method = \"POST\"\n",
    "        header = {\n",
    "            \"Authorization\" : f\"Bearer {account_2_playlist_oauth_token}\",\n",
    "            \"Content-Type\" : \"application/json\"\n",
    "        }\n",
    "        response = requests.post(url, headers=header, json=body)\n",
    "        \n",
    "        cur_num_tracks = min(offset+100, len(cur_tracks_id_list)) - offset\n",
    "    \n",
    "        if 200 <= response.status_code < 300 :\n",
    "            print(f\"Successfully added {cur_num_tracks} tracks to {playlist_name}\")\n",
    "        \n",
    "        # Increment offset to add the next batch\n",
    "        offset += 100"
   ]
  },
  {
   "cell_type": "code",
   "execution_count": null,
   "metadata": {},
   "outputs": [],
   "source": []
  }
 ],
 "metadata": {
  "kernelspec": {
   "display_name": "Python 3",
   "language": "python",
   "name": "python3"
  },
  "language_info": {
   "codemirror_mode": {
    "name": "ipython",
    "version": 3
   },
   "file_extension": ".py",
   "mimetype": "text/x-python",
   "name": "python",
   "nbconvert_exporter": "python",
   "pygments_lexer": "ipython3",
   "version": "3.9.6"
  }
 },
 "nbformat": 4,
 "nbformat_minor": 4
}
