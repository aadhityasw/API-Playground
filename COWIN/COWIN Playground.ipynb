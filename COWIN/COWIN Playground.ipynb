{
 "metadata": {
  "language_info": {
   "codemirror_mode": {
    "name": "ipython",
    "version": 3
   },
   "file_extension": ".py",
   "mimetype": "text/x-python",
   "name": "python",
   "nbconvert_exporter": "python",
   "pygments_lexer": "ipython3",
   "version": "3.8.3"
  },
  "orig_nbformat": 2,
  "kernelspec": {
   "name": "python3",
   "display_name": "Python 3.8.3 64-bit ('base': conda)"
  },
  "interpreter": {
   "hash": "ff885020a3c02da1d8ec5e25439164c57a25e81b50d9daf55f9162f51f16c208"
  }
 },
 "nbformat": 4,
 "nbformat_minor": 2,
 "cells": [
  {
   "cell_type": "markdown",
   "source": [
    "# Co-Win Web API's"
   ],
   "metadata": {}
  },
  {
   "cell_type": "code",
   "execution_count": null,
   "source": [
    "import requests"
   ],
   "outputs": [],
   "metadata": {}
  },
  {
   "cell_type": "markdown",
   "source": [
    "## 1. Find the ID of our district"
   ],
   "metadata": {}
  },
  {
   "cell_type": "code",
   "execution_count": null,
   "source": [
    "headers = {\"User-Agent\": \"Mozilla/5.0 (Windows NT 10.0; Win64; x64) AppleWebKit/537.36 (KHTML, like Gecko) Chrome/90.0.4430.93 Safari/537.36\"}"
   ],
   "outputs": [],
   "metadata": {}
  },
  {
   "cell_type": "code",
   "execution_count": null,
   "source": [
    "response = requests.get(\"https://cdn-api.co-vin.in/api/v2/admin/location/states\", headers=headers)\n",
    "print(response.status_code)"
   ],
   "outputs": [],
   "metadata": {}
  },
  {
   "cell_type": "code",
   "execution_count": null,
   "source": [
    "response.json()"
   ],
   "outputs": [],
   "metadata": {}
  },
  {
   "cell_type": "markdown",
   "source": [
    "Say we want the districts in `tamil nadu`, we will get the state's code from the list above. Its value is `31`"
   ],
   "metadata": {}
  },
  {
   "cell_type": "code",
   "execution_count": null,
   "source": [
    "# State code for tamil nadu is 31\n",
    "\n",
    "# Now we get the districts here\n",
    "response = requests.get(\"https://cdn-api.co-vin.in/api/v2/admin/location/districts/31\", headers=headers)\n",
    "print(response.status_code)"
   ],
   "outputs": [],
   "metadata": {}
  },
  {
   "cell_type": "code",
   "execution_count": null,
   "source": [
    "response.json()"
   ],
   "outputs": [],
   "metadata": {}
  },
  {
   "cell_type": "markdown",
   "source": [
    "We note down the code for a district, say the code for `madurai` is `540`"
   ],
   "metadata": {}
  },
  {
   "cell_type": "markdown",
   "source": [
    "## 2. Decide the date to be queried"
   ],
   "metadata": {}
  },
  {
   "cell_type": "code",
   "execution_count": null,
   "source": [
    "import datetime\n",
    "import pytz"
   ],
   "outputs": [],
   "metadata": {}
  },
  {
   "cell_type": "code",
   "execution_count": null,
   "source": [
    "# Get the current time\n",
    "now = datetime.datetime.now()\n",
    "\n",
    "# Set the timezone\n",
    "tz = pytz.timezone('Asia/Kolkata')\n",
    "\n",
    "# Convert the current time into this timezone\n",
    "now = now.astimezone(tz)\n",
    "\n",
    "now"
   ],
   "outputs": [],
   "metadata": {}
  },
  {
   "cell_type": "code",
   "execution_count": null,
   "source": [
    "# Get this into the required format\n",
    "\n",
    "current_date = now.strftime(\"%d-%m-%Y\")\n",
    "current_date"
   ],
   "outputs": [],
   "metadata": {}
  },
  {
   "cell_type": "code",
   "execution_count": null,
   "source": [
    "# To get the hour\n",
    "\n",
    "now.hour"
   ],
   "outputs": [],
   "metadata": {}
  },
  {
   "cell_type": "code",
   "execution_count": null,
   "source": [
    "# Increase the day to the next day\n",
    "next_date = now + datetime.timedelta(days=1)\n",
    "next_date"
   ],
   "outputs": [],
   "metadata": {}
  },
  {
   "cell_type": "markdown",
   "source": [
    "## 2. Get the vaccine slots based on this district code"
   ],
   "metadata": {}
  },
  {
   "cell_type": "code",
   "execution_count": null,
   "source": [
    "# Now we get the vaccine slots here\n",
    "\n",
    "parameters = {\n",
    "    'district_id' : \"540\",\n",
    "    \"date\" : current_date,\n",
    "}\n",
    "response = requests.get(\"https://cdn-api.co-vin.in/api/v2/appointment/sessions/public/findByDistrict\",                              headers=headers, params=parameters)\n",
    "print(response.status_code)"
   ],
   "outputs": [],
   "metadata": {}
  },
  {
   "cell_type": "code",
   "execution_count": null,
   "source": [
    "response.json()"
   ],
   "outputs": [],
   "metadata": {}
  },
  {
   "cell_type": "markdown",
   "source": [
    "## 3. Parse through this data"
   ],
   "metadata": {}
  },
  {
   "cell_type": "code",
   "execution_count": null,
   "source": [
    "# Save this json response\n",
    "data = response.json()\n",
    "\n",
    "candidate_centers = []\n",
    "# Parse through this json data and save the ones which have availability\n",
    "for center in data['sessions'] :\n",
    "    if (\n",
    "        (center['vaccine'] in ['COVISHIELD', 'SPUTNIK V']) and\n",
    "        (center['min_age_limit'] >= 18 ) and \n",
    "        (center['available_capacity_dose2'] > 0 )\n",
    "    ) :\n",
    "        cur_candidate = {\n",
    "            'name' : center['name'],\n",
    "            'num_dose_1' : center['available_capacity_dose1'],\n",
    "            'fee' : center['fee'],\n",
    "            'vaccine' : center['vaccine'],\n",
    "            'min_age' : center['min_age_limit'],\n",
    "            'slots' : center['slots']\n",
    "        }\n",
    "        candidate_centers.append(cur_candidate)"
   ],
   "outputs": [],
   "metadata": {}
  },
  {
   "cell_type": "code",
   "execution_count": null,
   "source": [
    "candidate_centers"
   ],
   "outputs": [],
   "metadata": {}
  },
  {
   "cell_type": "markdown",
   "source": [
    "## 4. Generate the text version of these centers"
   ],
   "metadata": {}
  },
  {
   "cell_type": "code",
   "execution_count": null,
   "source": [
    "def generateText(candidate_centers) :\n",
    "    \"\"\"\n",
    "    Given a list of candidate centers, converts these dictionary content to a text format\n",
    "    \"\"\"\n",
    "\n",
    "    complete_text = \"\"\n",
    "\n",
    "    for i, center in enumerate(candidate_centers) :\n",
    "        complete_text += f\"{i+1}<b><u>{center['name']} :</u></b>\"\n",
    "        complete_text += f\"Doses Available : {center['num_dose_1']}\"\n",
    "        complete_text += f\"Fee : {center['fee']}\"\n",
    "        complete_text += f\"Vaccine : {center['vaccine']}\"\n",
    "        complete_text += f\"Age group : {center['min_age_limit']}+ years\"\n",
    "        complete_text += f\"Slots : {center['slots'][0]}\"\n",
    "        for j in range(1, len(center['slots'])) :\n",
    "            complete_text += f\"{center['slots'][j]}\"\n",
    "        complete_text += \"---------------------\""
   ],
   "outputs": [],
   "metadata": {}
  },
  {
   "cell_type": "code",
   "execution_count": null,
   "source": [],
   "outputs": [],
   "metadata": {}
  }
 ]
}